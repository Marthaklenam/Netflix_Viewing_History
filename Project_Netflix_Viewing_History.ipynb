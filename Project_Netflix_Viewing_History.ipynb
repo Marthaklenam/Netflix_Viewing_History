{
  "nbformat": 4,
  "nbformat_minor": 0,
  "metadata": {
    "colab": {
      "provenance": []
    },
    "kernelspec": {
      "name": "python3",
      "display_name": "Python 3"
    },
    "language_info": {
      "name": "python"
    }
  },
  "cells": [
    {
      "cell_type": "markdown",
      "source": [
        "Getting the right data source and performing basic analytical skills\n",
        "\n"
      ],
      "metadata": {
        "id": "FSXicTzpUZLY"
      }
    },
    {
      "cell_type": "code",
      "source": [
        "#Importing relevant libraries\n",
        "#Viewing/Reading the dataset\n",
        "#Creating a function to contain the dataset\n",
        "\n",
        "import pandas as pd\n",
        "netflix_data = pd.read_csv('/content/NetflixViewingHistory.csv')\n",
        "netflix_data\n",
        "netflix_data.head(10)\n",
        "\n"
      ],
      "metadata": {
        "colab": {
          "base_uri": "https://localhost:8080/",
          "height": 363
        },
        "id": "YohfxWlhUmGf",
        "outputId": "9cca48b6-7920-4bf3-9017-826e0b9f546d"
      },
      "execution_count": null,
      "outputs": [
        {
          "output_type": "execute_result",
          "data": {
            "text/plain": [
              "                                               Title       Date\n",
              "0         Russian Doll: Season 2: Station to Station   5/4/2022\n",
              "1                Russian Doll: Season 2: Brain Drain   5/3/2022\n",
              "2          Russian Doll: Season 2: Coney Island Baby  4/26/2022\n",
              "3                     Russian Doll: Season 2: Nowhen  4/26/2022\n",
              "4  Eternally Confused and Eager for Love: Season ...  4/10/2022\n",
              "5  Eternally Confused and Eager for Love: Season ...   4/5/2022\n",
              "6  Eternally Confused and Eager for Love: Season ...   4/5/2022\n",
              "7  Eternally Confused and Eager for Love: Season ...   4/5/2022\n",
              "8    Bridgerton: Season 2: The Viscount Who Loved Me   4/4/2022\n",
              "9                      Bridgerton: Season 2: Harmony   4/3/2022"
            ],
            "text/html": [
              "\n",
              "  <div id=\"df-761f6a36-951d-448c-8475-2be47107e411\">\n",
              "    <div class=\"colab-df-container\">\n",
              "      <div>\n",
              "<style scoped>\n",
              "    .dataframe tbody tr th:only-of-type {\n",
              "        vertical-align: middle;\n",
              "    }\n",
              "\n",
              "    .dataframe tbody tr th {\n",
              "        vertical-align: top;\n",
              "    }\n",
              "\n",
              "    .dataframe thead th {\n",
              "        text-align: right;\n",
              "    }\n",
              "</style>\n",
              "<table border=\"1\" class=\"dataframe\">\n",
              "  <thead>\n",
              "    <tr style=\"text-align: right;\">\n",
              "      <th></th>\n",
              "      <th>Title</th>\n",
              "      <th>Date</th>\n",
              "    </tr>\n",
              "  </thead>\n",
              "  <tbody>\n",
              "    <tr>\n",
              "      <th>0</th>\n",
              "      <td>Russian Doll: Season 2: Station to Station</td>\n",
              "      <td>5/4/2022</td>\n",
              "    </tr>\n",
              "    <tr>\n",
              "      <th>1</th>\n",
              "      <td>Russian Doll: Season 2: Brain Drain</td>\n",
              "      <td>5/3/2022</td>\n",
              "    </tr>\n",
              "    <tr>\n",
              "      <th>2</th>\n",
              "      <td>Russian Doll: Season 2: Coney Island Baby</td>\n",
              "      <td>4/26/2022</td>\n",
              "    </tr>\n",
              "    <tr>\n",
              "      <th>3</th>\n",
              "      <td>Russian Doll: Season 2: Nowhen</td>\n",
              "      <td>4/26/2022</td>\n",
              "    </tr>\n",
              "    <tr>\n",
              "      <th>4</th>\n",
              "      <td>Eternally Confused and Eager for Love: Season ...</td>\n",
              "      <td>4/10/2022</td>\n",
              "    </tr>\n",
              "    <tr>\n",
              "      <th>5</th>\n",
              "      <td>Eternally Confused and Eager for Love: Season ...</td>\n",
              "      <td>4/5/2022</td>\n",
              "    </tr>\n",
              "    <tr>\n",
              "      <th>6</th>\n",
              "      <td>Eternally Confused and Eager for Love: Season ...</td>\n",
              "      <td>4/5/2022</td>\n",
              "    </tr>\n",
              "    <tr>\n",
              "      <th>7</th>\n",
              "      <td>Eternally Confused and Eager for Love: Season ...</td>\n",
              "      <td>4/5/2022</td>\n",
              "    </tr>\n",
              "    <tr>\n",
              "      <th>8</th>\n",
              "      <td>Bridgerton: Season 2: The Viscount Who Loved Me</td>\n",
              "      <td>4/4/2022</td>\n",
              "    </tr>\n",
              "    <tr>\n",
              "      <th>9</th>\n",
              "      <td>Bridgerton: Season 2: Harmony</td>\n",
              "      <td>4/3/2022</td>\n",
              "    </tr>\n",
              "  </tbody>\n",
              "</table>\n",
              "</div>\n",
              "      <button class=\"colab-df-convert\" onclick=\"convertToInteractive('df-761f6a36-951d-448c-8475-2be47107e411')\"\n",
              "              title=\"Convert this dataframe to an interactive table.\"\n",
              "              style=\"display:none;\">\n",
              "        \n",
              "  <svg xmlns=\"http://www.w3.org/2000/svg\" height=\"24px\"viewBox=\"0 0 24 24\"\n",
              "       width=\"24px\">\n",
              "    <path d=\"M0 0h24v24H0V0z\" fill=\"none\"/>\n",
              "    <path d=\"M18.56 5.44l.94 2.06.94-2.06 2.06-.94-2.06-.94-.94-2.06-.94 2.06-2.06.94zm-11 1L8.5 8.5l.94-2.06 2.06-.94-2.06-.94L8.5 2.5l-.94 2.06-2.06.94zm10 10l.94 2.06.94-2.06 2.06-.94-2.06-.94-.94-2.06-.94 2.06-2.06.94z\"/><path d=\"M17.41 7.96l-1.37-1.37c-.4-.4-.92-.59-1.43-.59-.52 0-1.04.2-1.43.59L10.3 9.45l-7.72 7.72c-.78.78-.78 2.05 0 2.83L4 21.41c.39.39.9.59 1.41.59.51 0 1.02-.2 1.41-.59l7.78-7.78 2.81-2.81c.8-.78.8-2.07 0-2.86zM5.41 20L4 18.59l7.72-7.72 1.47 1.35L5.41 20z\"/>\n",
              "  </svg>\n",
              "      </button>\n",
              "      \n",
              "  <style>\n",
              "    .colab-df-container {\n",
              "      display:flex;\n",
              "      flex-wrap:wrap;\n",
              "      gap: 12px;\n",
              "    }\n",
              "\n",
              "    .colab-df-convert {\n",
              "      background-color: #E8F0FE;\n",
              "      border: none;\n",
              "      border-radius: 50%;\n",
              "      cursor: pointer;\n",
              "      display: none;\n",
              "      fill: #1967D2;\n",
              "      height: 32px;\n",
              "      padding: 0 0 0 0;\n",
              "      width: 32px;\n",
              "    }\n",
              "\n",
              "    .colab-df-convert:hover {\n",
              "      background-color: #E2EBFA;\n",
              "      box-shadow: 0px 1px 2px rgba(60, 64, 67, 0.3), 0px 1px 3px 1px rgba(60, 64, 67, 0.15);\n",
              "      fill: #174EA6;\n",
              "    }\n",
              "\n",
              "    [theme=dark] .colab-df-convert {\n",
              "      background-color: #3B4455;\n",
              "      fill: #D2E3FC;\n",
              "    }\n",
              "\n",
              "    [theme=dark] .colab-df-convert:hover {\n",
              "      background-color: #434B5C;\n",
              "      box-shadow: 0px 1px 3px 1px rgba(0, 0, 0, 0.15);\n",
              "      filter: drop-shadow(0px 1px 2px rgba(0, 0, 0, 0.3));\n",
              "      fill: #FFFFFF;\n",
              "    }\n",
              "  </style>\n",
              "\n",
              "      <script>\n",
              "        const buttonEl =\n",
              "          document.querySelector('#df-761f6a36-951d-448c-8475-2be47107e411 button.colab-df-convert');\n",
              "        buttonEl.style.display =\n",
              "          google.colab.kernel.accessAllowed ? 'block' : 'none';\n",
              "\n",
              "        async function convertToInteractive(key) {\n",
              "          const element = document.querySelector('#df-761f6a36-951d-448c-8475-2be47107e411');\n",
              "          const dataTable =\n",
              "            await google.colab.kernel.invokeFunction('convertToInteractive',\n",
              "                                                     [key], {});\n",
              "          if (!dataTable) return;\n",
              "\n",
              "          const docLinkHtml = 'Like what you see? Visit the ' +\n",
              "            '<a target=\"_blank\" href=https://colab.research.google.com/notebooks/data_table.ipynb>data table notebook</a>'\n",
              "            + ' to learn more about interactive tables.';\n",
              "          element.innerHTML = '';\n",
              "          dataTable['output_type'] = 'display_data';\n",
              "          await google.colab.output.renderOutput(dataTable, element);\n",
              "          const docLink = document.createElement('div');\n",
              "          docLink.innerHTML = docLinkHtml;\n",
              "          element.appendChild(docLink);\n",
              "        }\n",
              "      </script>\n",
              "    </div>\n",
              "  </div>\n",
              "  "
            ]
          },
          "metadata": {},
          "execution_count": 36
        }
      ]
    },
    {
      "cell_type": "code",
      "source": [
        "#Getting the basic 'info()' of our data\n",
        "netflix_data.info()"
      ],
      "metadata": {
        "colab": {
          "base_uri": "https://localhost:8080/"
        },
        "id": "0es5YdZ2xrBs",
        "outputId": "43ff858e-593b-4954-c6a3-96bcf365a2ae"
      },
      "execution_count": null,
      "outputs": [
        {
          "output_type": "stream",
          "name": "stdout",
          "text": [
            "<class 'pandas.core.frame.DataFrame'>\n",
            "RangeIndex: 1972 entries, 0 to 1971\n",
            "Data columns (total 2 columns):\n",
            " #   Column  Non-Null Count  Dtype \n",
            "---  ------  --------------  ----- \n",
            " 0   Title   1972 non-null   object\n",
            " 1   Date    1972 non-null   object\n",
            "dtypes: object(2)\n",
            "memory usage: 30.9+ KB\n"
          ]
        }
      ]
    },
    {
      "cell_type": "code",
      "source": [
        "#the describe() function to tell us a bit of our data\n",
        "netflix_data.describe()"
      ],
      "metadata": {
        "colab": {
          "base_uri": "https://localhost:8080/",
          "height": 175
        },
        "id": "N5fyQeEKx9la",
        "outputId": "1993f4f7-1dd1-4bb2-eccd-1fea8b39dfe0"
      },
      "execution_count": null,
      "outputs": [
        {
          "output_type": "execute_result",
          "data": {
            "text/plain": [
              "                                             Title       Date\n",
              "count                                         1972       1972\n",
              "unique                                        1972        658\n",
              "top     Russian Doll: Season 2: Station to Station  4/25/2019\n",
              "freq                                             1         17"
            ],
            "text/html": [
              "\n",
              "  <div id=\"df-0d861501-dcd1-4df1-83a0-bc549dec4c00\">\n",
              "    <div class=\"colab-df-container\">\n",
              "      <div>\n",
              "<style scoped>\n",
              "    .dataframe tbody tr th:only-of-type {\n",
              "        vertical-align: middle;\n",
              "    }\n",
              "\n",
              "    .dataframe tbody tr th {\n",
              "        vertical-align: top;\n",
              "    }\n",
              "\n",
              "    .dataframe thead th {\n",
              "        text-align: right;\n",
              "    }\n",
              "</style>\n",
              "<table border=\"1\" class=\"dataframe\">\n",
              "  <thead>\n",
              "    <tr style=\"text-align: right;\">\n",
              "      <th></th>\n",
              "      <th>Title</th>\n",
              "      <th>Date</th>\n",
              "    </tr>\n",
              "  </thead>\n",
              "  <tbody>\n",
              "    <tr>\n",
              "      <th>count</th>\n",
              "      <td>1972</td>\n",
              "      <td>1972</td>\n",
              "    </tr>\n",
              "    <tr>\n",
              "      <th>unique</th>\n",
              "      <td>1972</td>\n",
              "      <td>658</td>\n",
              "    </tr>\n",
              "    <tr>\n",
              "      <th>top</th>\n",
              "      <td>Russian Doll: Season 2: Station to Station</td>\n",
              "      <td>4/25/2019</td>\n",
              "    </tr>\n",
              "    <tr>\n",
              "      <th>freq</th>\n",
              "      <td>1</td>\n",
              "      <td>17</td>\n",
              "    </tr>\n",
              "  </tbody>\n",
              "</table>\n",
              "</div>\n",
              "      <button class=\"colab-df-convert\" onclick=\"convertToInteractive('df-0d861501-dcd1-4df1-83a0-bc549dec4c00')\"\n",
              "              title=\"Convert this dataframe to an interactive table.\"\n",
              "              style=\"display:none;\">\n",
              "        \n",
              "  <svg xmlns=\"http://www.w3.org/2000/svg\" height=\"24px\"viewBox=\"0 0 24 24\"\n",
              "       width=\"24px\">\n",
              "    <path d=\"M0 0h24v24H0V0z\" fill=\"none\"/>\n",
              "    <path d=\"M18.56 5.44l.94 2.06.94-2.06 2.06-.94-2.06-.94-.94-2.06-.94 2.06-2.06.94zm-11 1L8.5 8.5l.94-2.06 2.06-.94-2.06-.94L8.5 2.5l-.94 2.06-2.06.94zm10 10l.94 2.06.94-2.06 2.06-.94-2.06-.94-.94-2.06-.94 2.06-2.06.94z\"/><path d=\"M17.41 7.96l-1.37-1.37c-.4-.4-.92-.59-1.43-.59-.52 0-1.04.2-1.43.59L10.3 9.45l-7.72 7.72c-.78.78-.78 2.05 0 2.83L4 21.41c.39.39.9.59 1.41.59.51 0 1.02-.2 1.41-.59l7.78-7.78 2.81-2.81c.8-.78.8-2.07 0-2.86zM5.41 20L4 18.59l7.72-7.72 1.47 1.35L5.41 20z\"/>\n",
              "  </svg>\n",
              "      </button>\n",
              "      \n",
              "  <style>\n",
              "    .colab-df-container {\n",
              "      display:flex;\n",
              "      flex-wrap:wrap;\n",
              "      gap: 12px;\n",
              "    }\n",
              "\n",
              "    .colab-df-convert {\n",
              "      background-color: #E8F0FE;\n",
              "      border: none;\n",
              "      border-radius: 50%;\n",
              "      cursor: pointer;\n",
              "      display: none;\n",
              "      fill: #1967D2;\n",
              "      height: 32px;\n",
              "      padding: 0 0 0 0;\n",
              "      width: 32px;\n",
              "    }\n",
              "\n",
              "    .colab-df-convert:hover {\n",
              "      background-color: #E2EBFA;\n",
              "      box-shadow: 0px 1px 2px rgba(60, 64, 67, 0.3), 0px 1px 3px 1px rgba(60, 64, 67, 0.15);\n",
              "      fill: #174EA6;\n",
              "    }\n",
              "\n",
              "    [theme=dark] .colab-df-convert {\n",
              "      background-color: #3B4455;\n",
              "      fill: #D2E3FC;\n",
              "    }\n",
              "\n",
              "    [theme=dark] .colab-df-convert:hover {\n",
              "      background-color: #434B5C;\n",
              "      box-shadow: 0px 1px 3px 1px rgba(0, 0, 0, 0.15);\n",
              "      filter: drop-shadow(0px 1px 2px rgba(0, 0, 0, 0.3));\n",
              "      fill: #FFFFFF;\n",
              "    }\n",
              "  </style>\n",
              "\n",
              "      <script>\n",
              "        const buttonEl =\n",
              "          document.querySelector('#df-0d861501-dcd1-4df1-83a0-bc549dec4c00 button.colab-df-convert');\n",
              "        buttonEl.style.display =\n",
              "          google.colab.kernel.accessAllowed ? 'block' : 'none';\n",
              "\n",
              "        async function convertToInteractive(key) {\n",
              "          const element = document.querySelector('#df-0d861501-dcd1-4df1-83a0-bc549dec4c00');\n",
              "          const dataTable =\n",
              "            await google.colab.kernel.invokeFunction('convertToInteractive',\n",
              "                                                     [key], {});\n",
              "          if (!dataTable) return;\n",
              "\n",
              "          const docLinkHtml = 'Like what you see? Visit the ' +\n",
              "            '<a target=\"_blank\" href=https://colab.research.google.com/notebooks/data_table.ipynb>data table notebook</a>'\n",
              "            + ' to learn more about interactive tables.';\n",
              "          element.innerHTML = '';\n",
              "          dataTable['output_type'] = 'display_data';\n",
              "          await google.colab.output.renderOutput(dataTable, element);\n",
              "          const docLink = document.createElement('div');\n",
              "          docLink.innerHTML = docLinkHtml;\n",
              "          element.appendChild(docLink);\n",
              "        }\n",
              "      </script>\n",
              "    </div>\n",
              "  </div>\n",
              "  "
            ]
          },
          "metadata": {},
          "execution_count": 5
        }
      ]
    },
    {
      "cell_type": "markdown",
      "source": [
        "Preprocessing the data set thus cleaning, surveying inconsistencies and errors in the dataset, knowing varoius information about our data\n"
      ],
      "metadata": {
        "id": "J34onCdZYxDQ"
      }
    },
    {
      "cell_type": "code",
      "source": [
        "#Knowing enterires of rows and columns of our dataset\n",
        "netflix_data.shape"
      ],
      "metadata": {
        "colab": {
          "base_uri": "https://localhost:8080/"
        },
        "id": "M9wbUdFRZrL3",
        "outputId": "acd67c93-0557-4ff0-b7cb-7315f0e480c3"
      },
      "execution_count": null,
      "outputs": [
        {
          "output_type": "execute_result",
          "data": {
            "text/plain": [
              "(1972, 2)"
            ]
          },
          "metadata": {},
          "execution_count": 6
        }
      ]
    },
    {
      "cell_type": "code",
      "source": [
        "#Knowing only rows in our dataset\n",
        "len(netflix_data)"
      ],
      "metadata": {
        "colab": {
          "base_uri": "https://localhost:8080/"
        },
        "id": "GmygVlHkZ8ku",
        "outputId": "21de0a0a-47ff-476c-b68c-a941ab2deed2"
      },
      "execution_count": null,
      "outputs": [
        {
          "output_type": "execute_result",
          "data": {
            "text/plain": [
              "1972"
            ]
          },
          "metadata": {},
          "execution_count": 7
        }
      ]
    },
    {
      "cell_type": "code",
      "source": [
        "#Knowing only columns in our dataset\n",
        "netflix_data.shape[1]"
      ],
      "metadata": {
        "colab": {
          "base_uri": "https://localhost:8080/"
        },
        "id": "Fi41W6jpaPdW",
        "outputId": "7146c87d-ad5a-4fea-b8dc-04de32453f04"
      },
      "execution_count": null,
      "outputs": [
        {
          "output_type": "execute_result",
          "data": {
            "text/plain": [
              "2"
            ]
          },
          "metadata": {},
          "execution_count": 8
        }
      ]
    },
    {
      "cell_type": "code",
      "source": [
        "#Knowing the names of the various columns of your dataset\n",
        "netflix_data.columns"
      ],
      "metadata": {
        "colab": {
          "base_uri": "https://localhost:8080/"
        },
        "id": "JhJRxdvYa1Y9",
        "outputId": "aec646cb-bc72-4e12-87ba-674bf0f4d939"
      },
      "execution_count": null,
      "outputs": [
        {
          "output_type": "execute_result",
          "data": {
            "text/plain": [
              "Index(['Title', 'Date'], dtype='object')"
            ]
          },
          "metadata": {},
          "execution_count": 9
        }
      ]
    },
    {
      "cell_type": "code",
      "source": [
        "#Knowing separate columns of our dataset\n",
        "netflix_data.columns[0]"
      ],
      "metadata": {
        "colab": {
          "base_uri": "https://localhost:8080/",
          "height": 35
        },
        "id": "mFUp6_g2bQXz",
        "outputId": "0841d522-7388-4acd-b0a7-7ec2a5c50fd1"
      },
      "execution_count": null,
      "outputs": [
        {
          "output_type": "execute_result",
          "data": {
            "text/plain": [
              "'Title'"
            ],
            "application/vnd.google.colaboratory.intrinsic+json": {
              "type": "string"
            }
          },
          "metadata": {},
          "execution_count": 10
        }
      ]
    },
    {
      "cell_type": "code",
      "source": [
        "#Knowing separate columns our dataset\n",
        "netflix_data.columns[1]"
      ],
      "metadata": {
        "colab": {
          "base_uri": "https://localhost:8080/",
          "height": 35
        },
        "id": "okyCttXdbert",
        "outputId": "772a856f-d48a-4320-8f97-ed79bd4434d9"
      },
      "execution_count": null,
      "outputs": [
        {
          "output_type": "execute_result",
          "data": {
            "text/plain": [
              "'Date'"
            ],
            "application/vnd.google.colaboratory.intrinsic+json": {
              "type": "string"
            }
          },
          "metadata": {},
          "execution_count": 11
        }
      ]
    },
    {
      "cell_type": "code",
      "source": [
        "#Knowing missing values and where in the data these missing values are located\n",
        "netflix_data.isna().sum()"
      ],
      "metadata": {
        "colab": {
          "base_uri": "https://localhost:8080/"
        },
        "id": "VYxN3Rd_btJa",
        "outputId": "091138ff-a046-4a9b-fc22-74dabc0bf396"
      },
      "execution_count": null,
      "outputs": [
        {
          "output_type": "execute_result",
          "data": {
            "text/plain": [
              "Title    0\n",
              "Date     0\n",
              "dtype: int64"
            ]
          },
          "metadata": {},
          "execution_count": 12
        }
      ]
    },
    {
      "cell_type": "code",
      "source": [
        "#Checking for duplicates in our dataset\n",
        "\n",
        "netflix_data.duplicated()"
      ],
      "metadata": {
        "colab": {
          "base_uri": "https://localhost:8080/"
        },
        "id": "uEAwNFlncHzz",
        "outputId": "e3d5edef-d295-418c-de1d-119c2a988bad"
      },
      "execution_count": null,
      "outputs": [
        {
          "output_type": "execute_result",
          "data": {
            "text/plain": [
              "0       False\n",
              "1       False\n",
              "2       False\n",
              "3       False\n",
              "4       False\n",
              "        ...  \n",
              "1967    False\n",
              "1968    False\n",
              "1969    False\n",
              "1970    False\n",
              "1971    False\n",
              "Length: 1972, dtype: bool"
            ]
          },
          "metadata": {},
          "execution_count": 13
        }
      ]
    },
    {
      "cell_type": "markdown",
      "source": [
        "#Performing Exploratory Data Analysis (EDA)\n",
        " - Finding how many times these specific shows have been watched\n",
        " 1. Grey's Anatomy\n",
        " 2. Friends\n",
        " 3. New Girl\n",
        " 4. Dynasty\n",
        " 5. Lady Bird\n"
      ],
      "metadata": {
        "id": "Jhz7esqfgERM"
      }
    },
    {
      "cell_type": "code",
      "source": [
        "#How many times was an episode of 'Grey's Anatomy' watched according to the data\n",
        "netflix_data[\"Title\"].apply(lambda t: \"Grey's Anatomy\" in t).sum()"
      ],
      "metadata": {
        "colab": {
          "base_uri": "https://localhost:8080/"
        },
        "id": "cKFI49t8gMF6",
        "outputId": "43c6a496-6b29-426c-aeeb-75ea83d02e44"
      },
      "execution_count": null,
      "outputs": [
        {
          "output_type": "execute_result",
          "data": {
            "text/plain": [
              "67"
            ]
          },
          "metadata": {},
          "execution_count": 14
        }
      ]
    },
    {
      "cell_type": "code",
      "source": [
        "#How many times was an episode of 'Friends' watched according to the data\n",
        "netflix_data[\"Title\"].apply(lambda t: \"Friends\" in t).sum()"
      ],
      "metadata": {
        "colab": {
          "base_uri": "https://localhost:8080/"
        },
        "id": "yQbDe5AdocGF",
        "outputId": "b549da3e-6046-44e4-ac2c-8d67600af2dc"
      },
      "execution_count": null,
      "outputs": [
        {
          "output_type": "execute_result",
          "data": {
            "text/plain": [
              "44"
            ]
          },
          "metadata": {},
          "execution_count": 15
        }
      ]
    },
    {
      "cell_type": "code",
      "source": [
        "#How many times was an episode of 'New Girl' watched according to the data\n",
        "netflix_data[\"Title\"].apply(lambda t: \"New Girl\" in t).sum()"
      ],
      "metadata": {
        "colab": {
          "base_uri": "https://localhost:8080/"
        },
        "id": "3uKaxuW6pJwJ",
        "outputId": "cbbe7074-54c2-4505-aeca-733ff159b677"
      },
      "execution_count": null,
      "outputs": [
        {
          "output_type": "execute_result",
          "data": {
            "text/plain": [
              "30"
            ]
          },
          "metadata": {},
          "execution_count": 16
        }
      ]
    },
    {
      "cell_type": "code",
      "source": [
        "#How many times was an episode of 'Dynasty' watched according to the data\n",
        "netflix_data[\"Title\"].apply(lambda t: \"Dynasty\" in t).sum()"
      ],
      "metadata": {
        "colab": {
          "base_uri": "https://localhost:8080/"
        },
        "id": "HpQ_juyEp6kl",
        "outputId": "e71a8a22-d96f-4bf6-a660-03d219ec92a6"
      },
      "execution_count": null,
      "outputs": [
        {
          "output_type": "execute_result",
          "data": {
            "text/plain": [
              "51"
            ]
          },
          "metadata": {},
          "execution_count": 17
        }
      ]
    },
    {
      "cell_type": "code",
      "source": [
        "#How many times was an episode of 'Lady Bird' watched according to the data\n",
        "netflix_data[\"Title\"].apply(lambda t: \"Lady Bird\" in t).sum()"
      ],
      "metadata": {
        "colab": {
          "base_uri": "https://localhost:8080/"
        },
        "id": "WK0xnEF7r6Qn",
        "outputId": "9d7d720e-5b06-459c-e067-2a18d10d2f45"
      },
      "execution_count": null,
      "outputs": [
        {
          "output_type": "execute_result",
          "data": {
            "text/plain": [
              "1"
            ]
          },
          "metadata": {},
          "execution_count": 18
        }
      ]
    },
    {
      "cell_type": "markdown",
      "source": [
        "Getting to know more about the data we have at hand"
      ],
      "metadata": {
        "id": "_9Nr9q37uBRO"
      }
    },
    {
      "cell_type": "code",
      "source": [
        "#Knowing the starting date for watching 'The Good Place' according to the data\n",
        "d = netflix_data.loc[[\"The Good Place\" in title for title in netflix_data [\"Title\"]], :]\n",
        "d\n"
      ],
      "metadata": {
        "colab": {
          "base_uri": "https://localhost:8080/",
          "height": 1000
        },
        "id": "WacUbbEwuIgf",
        "outputId": "09cec243-d291-4dc5-e56c-93805099ba13"
      },
      "execution_count": null,
      "outputs": [
        {
          "output_type": "execute_result",
          "data": {
            "text/plain": [
              "                                                  Title        Date\n",
              "430   The Good Place: Season 4: A Girl From Arizona ...  11/25/2020\n",
              "431   The Good Place: Season 4: A Girl From Arizona ...  11/25/2020\n",
              "454               The Good Place: Season 3: Pandemonium   11/5/2020\n",
              "455   The Good Place: Season 3: Chidi Sees the Time-...   11/5/2020\n",
              "456         The Good Place: Season 3: The Book of Dougs   11/5/2020\n",
              "457                  The Good Place: Season 3: Janet(s)   11/5/2020\n",
              "458   The Good Place: Season 3: Don't Let the Good L...   11/5/2020\n",
              "459   The Good Place: Season 3: The Worst Possible U...   11/2/2020\n",
              "460   The Good Place: Season 3: A Fractured Inheritance   11/2/2020\n",
              "461   The Good Place: Season 3: The Ballad of Donkey...   11/2/2020\n",
              "462            The Good Place: Season 3: Jeremy Bearimy   11/2/2020\n",
              "474              The Good Place: Season 3: The Snowplow  10/18/2020\n",
              "475          The Good Place: Season 3: The Brainy Bunch  10/18/2020\n",
              "476      The Good Place: Season 3: Everything is Bonzer  10/18/2020\n",
              "477            The Good Place: Season 2: Somewhere Else  10/18/2020\n",
              "479               The Good Place: Season 2: The Burrito  10/16/2020\n",
              "480   The Good Place: Season 2: Rhonda, Diana, Jake,...  10/16/2020\n",
              "481                 The Good Place: Season 2: Best Self  10/16/2020\n",
              "483             The Good Place: Season 2: Leap to Faith  10/16/2020\n",
              "485                     The Good Place: Season 2: Derek  10/14/2020\n",
              "486         The Good Place: Season 2: Janet and Michael  10/14/2020\n",
              "487       The Good Place: Season 2: The Trolley Problem  10/13/2020\n",
              "488        The Good Place: Season 2: Existential Crisis  10/13/2020\n",
              "489            The Good Place: Season 2: Team Cockroach  10/13/2020\n",
              "490    The Good Place: Season 2: Dance Dance Resolution  10/13/2020\n",
              "1629     The Good Place: Season 2: Everything Is Great!   8/30/2018\n",
              "1792         The Good Place: Season 1: Michael's Gambit  12/30/2017\n",
              "1793         The Good Place: Season 1: Mindy St. Claire  12/30/2017\n",
              "1794     The Good Place: Season 1: What's My Motivation  12/30/2017\n",
              "1797           The Good Place: Season 1: Chidi's Choice  12/28/2017\n",
              "1798  The Good Place: Season 1: ...Someone Like Me a...  12/28/2017\n",
              "1799     The Good Place: Season 1: Most Improved Player  12/28/2017\n",
              "1800       The Good Place: Season 1: The Eternal Shriek  12/28/2017\n",
              "1801  The Good Place: Season 1: What We Owe to Each ...  12/28/2017\n",
              "1802  The Good Place: Season 1: Category 55 Emergenc...  12/28/2017\n",
              "1803            The Good Place: Season 1: Jason Mendoza  12/27/2017\n",
              "1804          The Good Place: Season 1: Tahani Al-Jamil  12/27/2017\n",
              "1805                   The Good Place: Season 1: Flying  12/27/2017\n",
              "1806       The Good Place: Season 1: Everything Is Fine  12/27/2017"
            ],
            "text/html": [
              "\n",
              "  <div id=\"df-0e1138ee-4c50-4361-a053-746ce9236b47\">\n",
              "    <div class=\"colab-df-container\">\n",
              "      <div>\n",
              "<style scoped>\n",
              "    .dataframe tbody tr th:only-of-type {\n",
              "        vertical-align: middle;\n",
              "    }\n",
              "\n",
              "    .dataframe tbody tr th {\n",
              "        vertical-align: top;\n",
              "    }\n",
              "\n",
              "    .dataframe thead th {\n",
              "        text-align: right;\n",
              "    }\n",
              "</style>\n",
              "<table border=\"1\" class=\"dataframe\">\n",
              "  <thead>\n",
              "    <tr style=\"text-align: right;\">\n",
              "      <th></th>\n",
              "      <th>Title</th>\n",
              "      <th>Date</th>\n",
              "    </tr>\n",
              "  </thead>\n",
              "  <tbody>\n",
              "    <tr>\n",
              "      <th>430</th>\n",
              "      <td>The Good Place: Season 4: A Girl From Arizona ...</td>\n",
              "      <td>11/25/2020</td>\n",
              "    </tr>\n",
              "    <tr>\n",
              "      <th>431</th>\n",
              "      <td>The Good Place: Season 4: A Girl From Arizona ...</td>\n",
              "      <td>11/25/2020</td>\n",
              "    </tr>\n",
              "    <tr>\n",
              "      <th>454</th>\n",
              "      <td>The Good Place: Season 3: Pandemonium</td>\n",
              "      <td>11/5/2020</td>\n",
              "    </tr>\n",
              "    <tr>\n",
              "      <th>455</th>\n",
              "      <td>The Good Place: Season 3: Chidi Sees the Time-...</td>\n",
              "      <td>11/5/2020</td>\n",
              "    </tr>\n",
              "    <tr>\n",
              "      <th>456</th>\n",
              "      <td>The Good Place: Season 3: The Book of Dougs</td>\n",
              "      <td>11/5/2020</td>\n",
              "    </tr>\n",
              "    <tr>\n",
              "      <th>457</th>\n",
              "      <td>The Good Place: Season 3: Janet(s)</td>\n",
              "      <td>11/5/2020</td>\n",
              "    </tr>\n",
              "    <tr>\n",
              "      <th>458</th>\n",
              "      <td>The Good Place: Season 3: Don't Let the Good L...</td>\n",
              "      <td>11/5/2020</td>\n",
              "    </tr>\n",
              "    <tr>\n",
              "      <th>459</th>\n",
              "      <td>The Good Place: Season 3: The Worst Possible U...</td>\n",
              "      <td>11/2/2020</td>\n",
              "    </tr>\n",
              "    <tr>\n",
              "      <th>460</th>\n",
              "      <td>The Good Place: Season 3: A Fractured Inheritance</td>\n",
              "      <td>11/2/2020</td>\n",
              "    </tr>\n",
              "    <tr>\n",
              "      <th>461</th>\n",
              "      <td>The Good Place: Season 3: The Ballad of Donkey...</td>\n",
              "      <td>11/2/2020</td>\n",
              "    </tr>\n",
              "    <tr>\n",
              "      <th>462</th>\n",
              "      <td>The Good Place: Season 3: Jeremy Bearimy</td>\n",
              "      <td>11/2/2020</td>\n",
              "    </tr>\n",
              "    <tr>\n",
              "      <th>474</th>\n",
              "      <td>The Good Place: Season 3: The Snowplow</td>\n",
              "      <td>10/18/2020</td>\n",
              "    </tr>\n",
              "    <tr>\n",
              "      <th>475</th>\n",
              "      <td>The Good Place: Season 3: The Brainy Bunch</td>\n",
              "      <td>10/18/2020</td>\n",
              "    </tr>\n",
              "    <tr>\n",
              "      <th>476</th>\n",
              "      <td>The Good Place: Season 3: Everything is Bonzer</td>\n",
              "      <td>10/18/2020</td>\n",
              "    </tr>\n",
              "    <tr>\n",
              "      <th>477</th>\n",
              "      <td>The Good Place: Season 2: Somewhere Else</td>\n",
              "      <td>10/18/2020</td>\n",
              "    </tr>\n",
              "    <tr>\n",
              "      <th>479</th>\n",
              "      <td>The Good Place: Season 2: The Burrito</td>\n",
              "      <td>10/16/2020</td>\n",
              "    </tr>\n",
              "    <tr>\n",
              "      <th>480</th>\n",
              "      <td>The Good Place: Season 2: Rhonda, Diana, Jake,...</td>\n",
              "      <td>10/16/2020</td>\n",
              "    </tr>\n",
              "    <tr>\n",
              "      <th>481</th>\n",
              "      <td>The Good Place: Season 2: Best Self</td>\n",
              "      <td>10/16/2020</td>\n",
              "    </tr>\n",
              "    <tr>\n",
              "      <th>483</th>\n",
              "      <td>The Good Place: Season 2: Leap to Faith</td>\n",
              "      <td>10/16/2020</td>\n",
              "    </tr>\n",
              "    <tr>\n",
              "      <th>485</th>\n",
              "      <td>The Good Place: Season 2: Derek</td>\n",
              "      <td>10/14/2020</td>\n",
              "    </tr>\n",
              "    <tr>\n",
              "      <th>486</th>\n",
              "      <td>The Good Place: Season 2: Janet and Michael</td>\n",
              "      <td>10/14/2020</td>\n",
              "    </tr>\n",
              "    <tr>\n",
              "      <th>487</th>\n",
              "      <td>The Good Place: Season 2: The Trolley Problem</td>\n",
              "      <td>10/13/2020</td>\n",
              "    </tr>\n",
              "    <tr>\n",
              "      <th>488</th>\n",
              "      <td>The Good Place: Season 2: Existential Crisis</td>\n",
              "      <td>10/13/2020</td>\n",
              "    </tr>\n",
              "    <tr>\n",
              "      <th>489</th>\n",
              "      <td>The Good Place: Season 2: Team Cockroach</td>\n",
              "      <td>10/13/2020</td>\n",
              "    </tr>\n",
              "    <tr>\n",
              "      <th>490</th>\n",
              "      <td>The Good Place: Season 2: Dance Dance Resolution</td>\n",
              "      <td>10/13/2020</td>\n",
              "    </tr>\n",
              "    <tr>\n",
              "      <th>1629</th>\n",
              "      <td>The Good Place: Season 2: Everything Is Great!</td>\n",
              "      <td>8/30/2018</td>\n",
              "    </tr>\n",
              "    <tr>\n",
              "      <th>1792</th>\n",
              "      <td>The Good Place: Season 1: Michael's Gambit</td>\n",
              "      <td>12/30/2017</td>\n",
              "    </tr>\n",
              "    <tr>\n",
              "      <th>1793</th>\n",
              "      <td>The Good Place: Season 1: Mindy St. Claire</td>\n",
              "      <td>12/30/2017</td>\n",
              "    </tr>\n",
              "    <tr>\n",
              "      <th>1794</th>\n",
              "      <td>The Good Place: Season 1: What's My Motivation</td>\n",
              "      <td>12/30/2017</td>\n",
              "    </tr>\n",
              "    <tr>\n",
              "      <th>1797</th>\n",
              "      <td>The Good Place: Season 1: Chidi's Choice</td>\n",
              "      <td>12/28/2017</td>\n",
              "    </tr>\n",
              "    <tr>\n",
              "      <th>1798</th>\n",
              "      <td>The Good Place: Season 1: ...Someone Like Me a...</td>\n",
              "      <td>12/28/2017</td>\n",
              "    </tr>\n",
              "    <tr>\n",
              "      <th>1799</th>\n",
              "      <td>The Good Place: Season 1: Most Improved Player</td>\n",
              "      <td>12/28/2017</td>\n",
              "    </tr>\n",
              "    <tr>\n",
              "      <th>1800</th>\n",
              "      <td>The Good Place: Season 1: The Eternal Shriek</td>\n",
              "      <td>12/28/2017</td>\n",
              "    </tr>\n",
              "    <tr>\n",
              "      <th>1801</th>\n",
              "      <td>The Good Place: Season 1: What We Owe to Each ...</td>\n",
              "      <td>12/28/2017</td>\n",
              "    </tr>\n",
              "    <tr>\n",
              "      <th>1802</th>\n",
              "      <td>The Good Place: Season 1: Category 55 Emergenc...</td>\n",
              "      <td>12/28/2017</td>\n",
              "    </tr>\n",
              "    <tr>\n",
              "      <th>1803</th>\n",
              "      <td>The Good Place: Season 1: Jason Mendoza</td>\n",
              "      <td>12/27/2017</td>\n",
              "    </tr>\n",
              "    <tr>\n",
              "      <th>1804</th>\n",
              "      <td>The Good Place: Season 1: Tahani Al-Jamil</td>\n",
              "      <td>12/27/2017</td>\n",
              "    </tr>\n",
              "    <tr>\n",
              "      <th>1805</th>\n",
              "      <td>The Good Place: Season 1: Flying</td>\n",
              "      <td>12/27/2017</td>\n",
              "    </tr>\n",
              "    <tr>\n",
              "      <th>1806</th>\n",
              "      <td>The Good Place: Season 1: Everything Is Fine</td>\n",
              "      <td>12/27/2017</td>\n",
              "    </tr>\n",
              "  </tbody>\n",
              "</table>\n",
              "</div>\n",
              "      <button class=\"colab-df-convert\" onclick=\"convertToInteractive('df-0e1138ee-4c50-4361-a053-746ce9236b47')\"\n",
              "              title=\"Convert this dataframe to an interactive table.\"\n",
              "              style=\"display:none;\">\n",
              "        \n",
              "  <svg xmlns=\"http://www.w3.org/2000/svg\" height=\"24px\"viewBox=\"0 0 24 24\"\n",
              "       width=\"24px\">\n",
              "    <path d=\"M0 0h24v24H0V0z\" fill=\"none\"/>\n",
              "    <path d=\"M18.56 5.44l.94 2.06.94-2.06 2.06-.94-2.06-.94-.94-2.06-.94 2.06-2.06.94zm-11 1L8.5 8.5l.94-2.06 2.06-.94-2.06-.94L8.5 2.5l-.94 2.06-2.06.94zm10 10l.94 2.06.94-2.06 2.06-.94-2.06-.94-.94-2.06-.94 2.06-2.06.94z\"/><path d=\"M17.41 7.96l-1.37-1.37c-.4-.4-.92-.59-1.43-.59-.52 0-1.04.2-1.43.59L10.3 9.45l-7.72 7.72c-.78.78-.78 2.05 0 2.83L4 21.41c.39.39.9.59 1.41.59.51 0 1.02-.2 1.41-.59l7.78-7.78 2.81-2.81c.8-.78.8-2.07 0-2.86zM5.41 20L4 18.59l7.72-7.72 1.47 1.35L5.41 20z\"/>\n",
              "  </svg>\n",
              "      </button>\n",
              "      \n",
              "  <style>\n",
              "    .colab-df-container {\n",
              "      display:flex;\n",
              "      flex-wrap:wrap;\n",
              "      gap: 12px;\n",
              "    }\n",
              "\n",
              "    .colab-df-convert {\n",
              "      background-color: #E8F0FE;\n",
              "      border: none;\n",
              "      border-radius: 50%;\n",
              "      cursor: pointer;\n",
              "      display: none;\n",
              "      fill: #1967D2;\n",
              "      height: 32px;\n",
              "      padding: 0 0 0 0;\n",
              "      width: 32px;\n",
              "    }\n",
              "\n",
              "    .colab-df-convert:hover {\n",
              "      background-color: #E2EBFA;\n",
              "      box-shadow: 0px 1px 2px rgba(60, 64, 67, 0.3), 0px 1px 3px 1px rgba(60, 64, 67, 0.15);\n",
              "      fill: #174EA6;\n",
              "    }\n",
              "\n",
              "    [theme=dark] .colab-df-convert {\n",
              "      background-color: #3B4455;\n",
              "      fill: #D2E3FC;\n",
              "    }\n",
              "\n",
              "    [theme=dark] .colab-df-convert:hover {\n",
              "      background-color: #434B5C;\n",
              "      box-shadow: 0px 1px 3px 1px rgba(0, 0, 0, 0.15);\n",
              "      filter: drop-shadow(0px 1px 2px rgba(0, 0, 0, 0.3));\n",
              "      fill: #FFFFFF;\n",
              "    }\n",
              "  </style>\n",
              "\n",
              "      <script>\n",
              "        const buttonEl =\n",
              "          document.querySelector('#df-0e1138ee-4c50-4361-a053-746ce9236b47 button.colab-df-convert');\n",
              "        buttonEl.style.display =\n",
              "          google.colab.kernel.accessAllowed ? 'block' : 'none';\n",
              "\n",
              "        async function convertToInteractive(key) {\n",
              "          const element = document.querySelector('#df-0e1138ee-4c50-4361-a053-746ce9236b47');\n",
              "          const dataTable =\n",
              "            await google.colab.kernel.invokeFunction('convertToInteractive',\n",
              "                                                     [key], {});\n",
              "          if (!dataTable) return;\n",
              "\n",
              "          const docLinkHtml = 'Like what you see? Visit the ' +\n",
              "            '<a target=\"_blank\" href=https://colab.research.google.com/notebooks/data_table.ipynb>data table notebook</a>'\n",
              "            + ' to learn more about interactive tables.';\n",
              "          element.innerHTML = '';\n",
              "          dataTable['output_type'] = 'display_data';\n",
              "          await google.colab.output.renderOutput(dataTable, element);\n",
              "          const docLink = document.createElement('div');\n",
              "          docLink.innerHTML = docLinkHtml;\n",
              "          element.appendChild(docLink);\n",
              "        }\n",
              "      </script>\n",
              "    </div>\n",
              "  </div>\n",
              "  "
            ]
          },
          "metadata": {},
          "execution_count": 19
        }
      ]
    },
    {
      "cell_type": "code",
      "source": [
        "#Getting the starting date for watchinmg the show 'The Good Place'\n",
        "d[\"Date\"].min()"
      ],
      "metadata": {
        "colab": {
          "base_uri": "https://localhost:8080/",
          "height": 35
        },
        "id": "yNXEUW9Y5LLo",
        "outputId": "74b2bda5-5761-4fe2-d50e-7252fb5c6ac7"
      },
      "execution_count": null,
      "outputs": [
        {
          "output_type": "execute_result",
          "data": {
            "text/plain": [
              "'10/13/2020'"
            ],
            "application/vnd.google.colaboratory.intrinsic+json": {
              "type": "string"
            }
          },
          "metadata": {},
          "execution_count": 20
        }
      ]
    },
    {
      "cell_type": "code",
      "source": [
        "#Getting the first episode of the show 'The Good Place' watched according to the data\n",
        "d.sort_values(\"Date\", ascending=False)[\"Title\"].iloc[-1]\n"
      ],
      "metadata": {
        "colab": {
          "base_uri": "https://localhost:8080/",
          "height": 35
        },
        "id": "ncDi65yx72P4",
        "outputId": "eb717bc3-aa21-45ed-ef00-170092beced8"
      },
      "execution_count": null,
      "outputs": [
        {
          "output_type": "execute_result",
          "data": {
            "text/plain": [
              "'The Good Place: Season 2: Existential Crisis'"
            ],
            "application/vnd.google.colaboratory.intrinsic+json": {
              "type": "string"
            }
          },
          "metadata": {},
          "execution_count": 22
        }
      ]
    },
    {
      "cell_type": "code",
      "source": [
        "#Getting the last date of watching the show 'The Good Place'\n",
        "d[\"Date\"].max()"
      ],
      "metadata": {
        "colab": {
          "base_uri": "https://localhost:8080/",
          "height": 35
        },
        "id": "bBymKIfdzBbV",
        "outputId": "3c1a1501-693a-49c3-c17b-690d52b3b203"
      },
      "execution_count": null,
      "outputs": [
        {
          "output_type": "execute_result",
          "data": {
            "text/plain": [
              "'8/30/2018'"
            ],
            "application/vnd.google.colaboratory.intrinsic+json": {
              "type": "string"
            }
          },
          "metadata": {},
          "execution_count": 24
        }
      ]
    },
    {
      "cell_type": "code",
      "source": [
        "#Getting the title of the last episode of 'The Good Place' watched according to the data\n",
        "#Using the .iloc[0] approach\n",
        "d.sort_values(\"Date\", ascending=False)[\"Title\"].iloc[0]"
      ],
      "metadata": {
        "colab": {
          "base_uri": "https://localhost:8080/",
          "height": 35
        },
        "id": "xp3D7LmWzn6X",
        "outputId": "1b553116-614d-4df0-df81-39a5a7a4ff35"
      },
      "execution_count": null,
      "outputs": [
        {
          "output_type": "execute_result",
          "data": {
            "text/plain": [
              "'The Good Place: Season 2: Everything Is Great!'"
            ],
            "application/vnd.google.colaboratory.intrinsic+json": {
              "type": "string"
            }
          },
          "metadata": {},
          "execution_count": 25
        }
      ]
    },
    {
      "cell_type": "code",
      "source": [
        "#Getting the title of the last episode of 'The Good Place' watched according to the data\n",
        "#Using the .iloc[-1] approach\n",
        "d.sort_values(\"Date\", ascending=True)[\"Title\"].iloc[-1]"
      ],
      "metadata": {
        "colab": {
          "base_uri": "https://localhost:8080/",
          "height": 35
        },
        "id": "oLdgg7_s0kn2",
        "outputId": "82a424bb-1eb9-4037-cc04-3f0649147fdf"
      },
      "execution_count": null,
      "outputs": [
        {
          "output_type": "execute_result",
          "data": {
            "text/plain": [
              "'The Good Place: Season 2: Everything Is Great!'"
            ],
            "application/vnd.google.colaboratory.intrinsic+json": {
              "type": "string"
            }
          },
          "metadata": {},
          "execution_count": 28
        }
      ]
    },
    {
      "cell_type": "code",
      "source": [
        "#Knowing the starting date for watching 'Russian Doll' according to the data\n",
        "b = netflix_data.loc[[\"Russian Doll\" in title for title in netflix_data [\"Title\"]], :]\n",
        "b"
      ],
      "metadata": {
        "colab": {
          "base_uri": "https://localhost:8080/",
          "height": 269
        },
        "id": "6Z_WwtIO2NDo",
        "outputId": "02cdf384-fc09-4c90-85f3-e62afc678a57"
      },
      "execution_count": null,
      "outputs": [
        {
          "output_type": "execute_result",
          "data": {
            "text/plain": [
              "                                                  Title       Date\n",
              "0            Russian Doll: Season 2: Station to Station   5/4/2022\n",
              "1                   Russian Doll: Season 2: Brain Drain   5/3/2022\n",
              "2             Russian Doll: Season 2: Coney Island Baby  4/26/2022\n",
              "3                        Russian Doll: Season 2: Nowhen  4/26/2022\n",
              "514                     Russian Doll: Season 1: Ariadne  7/28/2020\n",
              "515                 Russian Doll: Season 1: The Way Out  7/28/2020\n",
              "1391  Russian Doll: Season 1: Nothing in This World ...   2/3/2019"
            ],
            "text/html": [
              "\n",
              "  <div id=\"df-fc2c1f52-c55b-4985-b2e2-c219af815fac\">\n",
              "    <div class=\"colab-df-container\">\n",
              "      <div>\n",
              "<style scoped>\n",
              "    .dataframe tbody tr th:only-of-type {\n",
              "        vertical-align: middle;\n",
              "    }\n",
              "\n",
              "    .dataframe tbody tr th {\n",
              "        vertical-align: top;\n",
              "    }\n",
              "\n",
              "    .dataframe thead th {\n",
              "        text-align: right;\n",
              "    }\n",
              "</style>\n",
              "<table border=\"1\" class=\"dataframe\">\n",
              "  <thead>\n",
              "    <tr style=\"text-align: right;\">\n",
              "      <th></th>\n",
              "      <th>Title</th>\n",
              "      <th>Date</th>\n",
              "    </tr>\n",
              "  </thead>\n",
              "  <tbody>\n",
              "    <tr>\n",
              "      <th>0</th>\n",
              "      <td>Russian Doll: Season 2: Station to Station</td>\n",
              "      <td>5/4/2022</td>\n",
              "    </tr>\n",
              "    <tr>\n",
              "      <th>1</th>\n",
              "      <td>Russian Doll: Season 2: Brain Drain</td>\n",
              "      <td>5/3/2022</td>\n",
              "    </tr>\n",
              "    <tr>\n",
              "      <th>2</th>\n",
              "      <td>Russian Doll: Season 2: Coney Island Baby</td>\n",
              "      <td>4/26/2022</td>\n",
              "    </tr>\n",
              "    <tr>\n",
              "      <th>3</th>\n",
              "      <td>Russian Doll: Season 2: Nowhen</td>\n",
              "      <td>4/26/2022</td>\n",
              "    </tr>\n",
              "    <tr>\n",
              "      <th>514</th>\n",
              "      <td>Russian Doll: Season 1: Ariadne</td>\n",
              "      <td>7/28/2020</td>\n",
              "    </tr>\n",
              "    <tr>\n",
              "      <th>515</th>\n",
              "      <td>Russian Doll: Season 1: The Way Out</td>\n",
              "      <td>7/28/2020</td>\n",
              "    </tr>\n",
              "    <tr>\n",
              "      <th>1391</th>\n",
              "      <td>Russian Doll: Season 1: Nothing in This World ...</td>\n",
              "      <td>2/3/2019</td>\n",
              "    </tr>\n",
              "  </tbody>\n",
              "</table>\n",
              "</div>\n",
              "      <button class=\"colab-df-convert\" onclick=\"convertToInteractive('df-fc2c1f52-c55b-4985-b2e2-c219af815fac')\"\n",
              "              title=\"Convert this dataframe to an interactive table.\"\n",
              "              style=\"display:none;\">\n",
              "        \n",
              "  <svg xmlns=\"http://www.w3.org/2000/svg\" height=\"24px\"viewBox=\"0 0 24 24\"\n",
              "       width=\"24px\">\n",
              "    <path d=\"M0 0h24v24H0V0z\" fill=\"none\"/>\n",
              "    <path d=\"M18.56 5.44l.94 2.06.94-2.06 2.06-.94-2.06-.94-.94-2.06-.94 2.06-2.06.94zm-11 1L8.5 8.5l.94-2.06 2.06-.94-2.06-.94L8.5 2.5l-.94 2.06-2.06.94zm10 10l.94 2.06.94-2.06 2.06-.94-2.06-.94-.94-2.06-.94 2.06-2.06.94z\"/><path d=\"M17.41 7.96l-1.37-1.37c-.4-.4-.92-.59-1.43-.59-.52 0-1.04.2-1.43.59L10.3 9.45l-7.72 7.72c-.78.78-.78 2.05 0 2.83L4 21.41c.39.39.9.59 1.41.59.51 0 1.02-.2 1.41-.59l7.78-7.78 2.81-2.81c.8-.78.8-2.07 0-2.86zM5.41 20L4 18.59l7.72-7.72 1.47 1.35L5.41 20z\"/>\n",
              "  </svg>\n",
              "      </button>\n",
              "      \n",
              "  <style>\n",
              "    .colab-df-container {\n",
              "      display:flex;\n",
              "      flex-wrap:wrap;\n",
              "      gap: 12px;\n",
              "    }\n",
              "\n",
              "    .colab-df-convert {\n",
              "      background-color: #E8F0FE;\n",
              "      border: none;\n",
              "      border-radius: 50%;\n",
              "      cursor: pointer;\n",
              "      display: none;\n",
              "      fill: #1967D2;\n",
              "      height: 32px;\n",
              "      padding: 0 0 0 0;\n",
              "      width: 32px;\n",
              "    }\n",
              "\n",
              "    .colab-df-convert:hover {\n",
              "      background-color: #E2EBFA;\n",
              "      box-shadow: 0px 1px 2px rgba(60, 64, 67, 0.3), 0px 1px 3px 1px rgba(60, 64, 67, 0.15);\n",
              "      fill: #174EA6;\n",
              "    }\n",
              "\n",
              "    [theme=dark] .colab-df-convert {\n",
              "      background-color: #3B4455;\n",
              "      fill: #D2E3FC;\n",
              "    }\n",
              "\n",
              "    [theme=dark] .colab-df-convert:hover {\n",
              "      background-color: #434B5C;\n",
              "      box-shadow: 0px 1px 3px 1px rgba(0, 0, 0, 0.15);\n",
              "      filter: drop-shadow(0px 1px 2px rgba(0, 0, 0, 0.3));\n",
              "      fill: #FFFFFF;\n",
              "    }\n",
              "  </style>\n",
              "\n",
              "      <script>\n",
              "        const buttonEl =\n",
              "          document.querySelector('#df-fc2c1f52-c55b-4985-b2e2-c219af815fac button.colab-df-convert');\n",
              "        buttonEl.style.display =\n",
              "          google.colab.kernel.accessAllowed ? 'block' : 'none';\n",
              "\n",
              "        async function convertToInteractive(key) {\n",
              "          const element = document.querySelector('#df-fc2c1f52-c55b-4985-b2e2-c219af815fac');\n",
              "          const dataTable =\n",
              "            await google.colab.kernel.invokeFunction('convertToInteractive',\n",
              "                                                     [key], {});\n",
              "          if (!dataTable) return;\n",
              "\n",
              "          const docLinkHtml = 'Like what you see? Visit the ' +\n",
              "            '<a target=\"_blank\" href=https://colab.research.google.com/notebooks/data_table.ipynb>data table notebook</a>'\n",
              "            + ' to learn more about interactive tables.';\n",
              "          element.innerHTML = '';\n",
              "          dataTable['output_type'] = 'display_data';\n",
              "          await google.colab.output.renderOutput(dataTable, element);\n",
              "          const docLink = document.createElement('div');\n",
              "          docLink.innerHTML = docLinkHtml;\n",
              "          element.appendChild(docLink);\n",
              "        }\n",
              "      </script>\n",
              "    </div>\n",
              "  </div>\n",
              "  "
            ]
          },
          "metadata": {},
          "execution_count": 30
        }
      ]
    },
    {
      "cell_type": "code",
      "source": [
        "#Getting the first episode of the show 'Russain Doll' watched according to the data\n",
        "b.sort_values(\"Date\", ascending=False)[\"Title\"].iloc[-1]\n"
      ],
      "metadata": {
        "colab": {
          "base_uri": "https://localhost:8080/",
          "height": 35
        },
        "id": "Z_baLMX62x3D",
        "outputId": "a949c191-c03f-4f47-f867-bd9eed017849"
      },
      "execution_count": null,
      "outputs": [
        {
          "output_type": "execute_result",
          "data": {
            "text/plain": [
              "'Russian Doll: Season 1: Nothing in This World Is Easy'"
            ],
            "application/vnd.google.colaboratory.intrinsic+json": {
              "type": "string"
            }
          },
          "metadata": {},
          "execution_count": 31
        }
      ]
    },
    {
      "cell_type": "code",
      "source": [
        "#Getting the title of the last episode of 'Russian Doll' watched according to the data\n",
        "#Using the .iloc[0] approach\n",
        "b.sort_values(\"Date\", ascending=False)[\"Title\"].iloc[0]"
      ],
      "metadata": {
        "colab": {
          "base_uri": "https://localhost:8080/",
          "height": 35
        },
        "id": "gpPBi97u3LNn",
        "outputId": "dbf9d859-4534-418b-e655-f5afb182d930"
      },
      "execution_count": null,
      "outputs": [
        {
          "output_type": "execute_result",
          "data": {
            "text/plain": [
              "'Russian Doll: Season 1: Ariadne'"
            ],
            "application/vnd.google.colaboratory.intrinsic+json": {
              "type": "string"
            }
          },
          "metadata": {},
          "execution_count": 38
        }
      ]
    },
    {
      "cell_type": "markdown",
      "source": [
        "The dataset analysed gives insight into those various information as searching for missing values, duplicates, how many times various shows were watched and how to get the names of those shows. From the analysis, we could deduce the total number of row enteries and column enteries of our data.\n",
        "Finally, we could tell  which seasons were watched on specific days as we perform basic analytical skills on our data."
      ],
      "metadata": {
        "id": "AJjMUckq9TIJ"
      }
    }
  ]
}